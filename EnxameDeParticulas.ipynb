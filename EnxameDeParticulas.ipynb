{
  "nbformat": 4,
  "nbformat_minor": 0,
  "metadata": {
    "colab": {
      "provenance": [],
      "authorship_tag": "ABX9TyPqP0vK8K7JeopY6wL++bSW",
      "include_colab_link": true
    },
    "kernelspec": {
      "name": "python3",
      "display_name": "Python 3"
    },
    "language_info": {
      "name": "python"
    }
  },
  "cells": [
    {
      "cell_type": "markdown",
      "metadata": {
        "id": "view-in-github",
        "colab_type": "text"
      },
      "source": [
        "<a href=\"https://colab.research.google.com/github/PedroAlves7/EnxameDeParticulas/blob/main/EnxameDeParticulas.ipynb\" target=\"_parent\"><img src=\"https://colab.research.google.com/assets/colab-badge.svg\" alt=\"Open In Colab\"/></a>"
      ]
    },
    {
      "cell_type": "code",
      "execution_count": null,
      "metadata": {
        "id": "NOeSCZnL5ENE",
        "colab": {
          "base_uri": "https://localhost:8080/"
        },
        "outputId": "926aa886-8115-4464-d60d-ad3d42fc8163"
      },
      "outputs": [
        {
          "output_type": "stream",
          "name": "stdout",
          "text": [
            "Melhor solução: [1.50000011]\n",
            "Valor mínimo: [1.75]\n"
          ]
        }
      ],
      "source": [
        "import random\n",
        "import numpy as np\n",
        "\n",
        "TAM_POPULACAO = 50\n",
        "DIMENSOES = 1\n",
        "ITERACOES = 100\n",
        "INERCIA = 0.8\n",
        "c1 = 0.5\n",
        "c2 = 0.5\n",
        "r1 = np.random.random()\n",
        "r2 = np.random.random()\n",
        "\n",
        "# Definir a função de avaliação\n",
        "def funcao(particula):\n",
        "    return pow(particula,2) - 3*particula + 4\n",
        "\n",
        "# Gerar a população inicial\n",
        "posicao_particula = []\n",
        "vel_particula = []\n",
        "pbest = []\n",
        "for i in range(TAM_POPULACAO):\n",
        "    particula = random.uniform(-5, 5)\n",
        "    posicao_particula.append(particula)\n",
        "    pbest.append(particula)\n",
        "    vel = np.zeros(DIMENSOES)\n",
        "    vel_particula.append(vel)\n",
        "\n",
        "gbest = pbest[np.argmin([funcao(p) for p in pbest])]\n",
        "\n",
        "for j in range(ITERACOES):\n",
        "  for i in range(TAM_POPULACAO):\n",
        "    # Atualiza a velocidade da partícula\n",
        "    vel_particula[i] = (INERCIA*vel_particula[i]) + (c1*r1)*(pbest[i] - posicao_particula[i]) + (c2*r2)*(gbest - posicao_particula[i])\n",
        "\n",
        "    # Atualiza a posição da partícula\n",
        "    posicao_particula[i] = posicao_particula[i] + vel_particula[i]\n",
        "\n",
        "    # Verifica se a nova posição é melhor que a melhor posição local\n",
        "    if funcao(posicao_particula[i]) < funcao(pbest[i]):\n",
        "      pbest[i] = posicao_particula[i]\n",
        "\n",
        "    # Atualiza a melhor posição global\n",
        "    gbest = pbest[np.argmin([funcao(p) for p in pbest])]\n",
        "\n",
        "print(\"Melhor solução:\", gbest)\n",
        "print(\"Valor mínimo:\", funcao(gbest))"
      ]
    }
  ]
}